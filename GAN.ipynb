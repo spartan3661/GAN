{
 "cells": [
  {
   "cell_type": "code",
   "execution_count": 1,
   "metadata": {},
   "outputs": [],
   "source": [
    "import torch\n",
    "import torch.nn as nn\n",
    "import torch.optim as optim\n",
    "import torchvision\n",
    "from torchvision import transforms\n",
    "from torch.utils.data import Dataset, DataLoader\n",
    "import matplotlib.pyplot as plt\n",
    "import numpy as np\n",
    "from PIL import Image\n",
    "import lmdb\n",
    "import numpy as np\n",
    "import io\n",
    "from tqdm import tqdm\n",
    "\n"
   ]
  },
  {
   "cell_type": "code",
   "execution_count": 2,
   "metadata": {},
   "outputs": [],
   "source": [
    "class Generator(nn.Module):\n",
    "    def __init__(self, latent_dim):\n",
    "        super(Generator, self).__init__()\n",
    "\n",
    "        self.model = nn.Sequential(\n",
    "            nn.Linear(latent_dim, 512 * 8 * 8), # 512 channels for 128 by 128 images\n",
    "            nn.ReLU(),\n",
    "            nn.Unflatten(1, (512, 8, 8)),\n",
    "\n",
    "            #nn.Upsample(scale_factor=2),\n",
    "            nn.ConvTranspose2d(512, 512, kernel_size=4, stride=2, padding=1), # 1024 * 16 * 16\n",
    "            nn.BatchNorm2d(512, momentum=0.5),\n",
    "            nn.ReLU(),\n",
    "\n",
    "            #nn.Upsample(scale_factor=2), # 512 * 32 * 32\n",
    "            nn.ConvTranspose2d(512, 256, kernel_size=4, stride=2, padding=1),\n",
    "            nn.BatchNorm2d(256, momentum=0.5),\n",
    "            nn.ReLU(),\n",
    "\n",
    "            #nn.Upsample(scale_factor=2), # 256 * 64 * 64\n",
    "            nn.ConvTranspose2d(256, 128, kernel_size=4, stride=2, padding=1),\n",
    "            nn.BatchNorm2d(128, momentum=0.5),\n",
    "            nn.ReLU(),\n",
    "\n",
    "            #nn.Upsample(scale_factor=2), # 128 * 128 * 128\n",
    "            nn.ConvTranspose2d(128, 3, kernel_size=4, stride=2, padding=1),\n",
    "            nn.Tanh()\n",
    "\n",
    "        )\n",
    "    def forward(self, x):\n",
    "        img = self.model(x)\n",
    "        return img"
   ]
  },
  {
   "cell_type": "code",
   "execution_count": 3,
   "metadata": {},
   "outputs": [],
   "source": [
    "class Discriminator(nn.Module):\n",
    "    def __init__(self):\n",
    "        super(Discriminator, self).__init__()\n",
    "        # maybe add spectral_norm?\n",
    "        self.model = nn.Sequential(\n",
    "            nn.Conv2d(3, 128, kernel_size=3, stride=2, padding=1), # 64 by 64 * 128\n",
    "            nn.LeakyReLU(0.2),\n",
    "            nn.Dropout(0.1),\n",
    "\n",
    "            nn.Conv2d(128, 256, kernel_size=3, stride=2, padding=1), # 32 by 32 * 256\n",
    "            nn.BatchNorm2d(256, momentum=0.82),\n",
    "            nn.LeakyReLU(0.25),\n",
    "            nn.Dropout(0.1),\n",
    "\n",
    "            nn.Conv2d(256, 512, kernel_size=3, stride=2, padding=1), # 16 by 16 * 256\n",
    "            nn.BatchNorm2d(512, momentum=0.82),\n",
    "            nn.LeakyReLU(0.2),\n",
    "            nn.Dropout(0.1),\n",
    "\n",
    "            nn.Conv2d(512, 1024, kernel_size=3, stride=1, padding=1), # 8 by 8 * 512\n",
    "            nn.BatchNorm2d(1024, momentum=0.8),\n",
    "            nn.LeakyReLU(0.25),\n",
    "            nn.Dropout(0.1),\n",
    "\n",
    "            nn.Flatten(),\n",
    "            nn.Linear(1024 * 16 * 16, 1),\n",
    "            nn.Sigmoid()\n",
    "        )\n",
    "\n",
    "    def forward(self, img):\n",
    "\n",
    "\n",
    "\n",
    "        '''                \n",
    "        x = self.model[0](img)\n",
    "        print(f\"After first Conv2d: {x.shape}\")\n",
    "        x = self.model[1](x)\n",
    "        print(f\"After LeakyReLU and Dropout: {x.shape}\")\n",
    "        x = self.model[2](x)\n",
    "        print(f\"After second Conv2d: {x.shape}\")\n",
    "        x = self.model[3](x)\n",
    "        print(f\"After second LeakyReLU and Dropout: {x.shape}\")\n",
    "        x = self.model[4](x)\n",
    "        print(f\"After third Conv2d: {x.shape}\")\n",
    "        x = self.model[5](x)\n",
    "        print(f\"After third LeakyReLU and Dropout: {x.shape}\")\n",
    "        x = self.model[6](x)\n",
    "        print(f\"After fourth Conv2d: {x.shape}\")\n",
    "        x = self.model[7](x)\n",
    "        print(f\"After fourth LeakyReLU and Dropout: {x.shape}\")\n",
    "        \n",
    "        x = self.model[8](x)  # Flatten\n",
    "        print(f\"After Flatten: {x.shape}\")\n",
    "        validity = self.model[9](x)  # Linear layer\n",
    "        return validity\n",
    "        '''\n",
    "    \n",
    "        validity = self.model(img)\n",
    "        return validity\n",
    "\n"
   ]
  },
  {
   "cell_type": "code",
   "execution_count": 4,
   "metadata": {},
   "outputs": [],
   "source": [
    "class LSUNDataset(Dataset):\n",
    "    def __init__(self, lmdb_path, transform=None):\n",
    "        self.lmdb_path = lmdb_path\n",
    "        self.transform = transform\n",
    "\n",
    "        self.env = lmdb.open(self.lmdb_path, readonly=True, lock=False)\n",
    "\n",
    "        with self.env.begin(write=False) as txn:\n",
    "            self.length = txn.stat()['entries']\n",
    "        \n",
    "    def __len__(self):\n",
    "        return self.length\n",
    "    \n",
    "    def __getitem__(self, idx):\n",
    "\n",
    "        with self.env.begin(write=False) as txn:\n",
    "            cursor = txn.cursor()\n",
    "            cursor.iternext()\n",
    "\n",
    "            for i in range(idx):\n",
    "                cursor.iternext()\n",
    "                \n",
    "            key, value = cursor.item()\n",
    "        \n",
    "\n",
    "            image = Image.open(io.BytesIO(value))\n",
    "\n",
    "\n",
    "            if self.transform:\n",
    "                image = self.transform(image)\n",
    "\n",
    "\n",
    "            return image"
   ]
  },
  {
   "cell_type": "code",
   "execution_count": 5,
   "metadata": {},
   "outputs": [],
   "source": [
    "transform = transforms.Compose([\n",
    "    transforms.Resize((128, 128)),\n",
    "    transforms.ToTensor()\n",
    "])\n",
    "\n",
    "train_db_path = \"./data/bridge_train_lmdb\"\n",
    "val_db_path = \"./data/bridge_val_lmdb\"\n",
    "\n",
    "\n",
    "\n",
    "train_dataset = LSUNDataset(train_db_path, transform)\n",
    "val_dataset = LSUNDataset(train_db_path, transform)"
   ]
  },
  {
   "cell_type": "code",
   "execution_count": 6,
   "metadata": {},
   "outputs": [
    {
     "name": "stdout",
     "output_type": "stream",
     "text": [
      "torch.Size([3, 128, 128])\n"
     ]
    }
   ],
   "source": [
    "image = train_dataset[0]\n",
    "print(image.shape)"
   ]
  },
  {
   "cell_type": "code",
   "execution_count": 7,
   "metadata": {},
   "outputs": [],
   "source": [
    "train_dataloader = DataLoader(dataset=train_dataset, batch_size=32, shuffle=True, num_workers=0)\n",
    "val_dataloader = DataLoader(dataset=val_dataset, batch_size=32, shuffle=True, num_workers=0)"
   ]
  },
  {
   "cell_type": "code",
   "execution_count": 8,
   "metadata": {},
   "outputs": [
    {
     "name": "stdout",
     "output_type": "stream",
     "text": [
      "Batch 1:\n",
      "Images shape: torch.Size([32, 3, 128, 128])\n"
     ]
    }
   ],
   "source": [
    "for i, images in enumerate(train_dataloader):\n",
    "    print(f\"Batch {i+1}:\")\n",
    "    print(\"Images shape:\", images.shape)\n",
    "    \n",
    "    break"
   ]
  },
  {
   "cell_type": "code",
   "execution_count": 9,
   "metadata": {},
   "outputs": [],
   "source": [
    "latent_dim = 100\n",
    "lr = 0.0002\n",
    "beta1 = 0.5\n",
    "beta2 = 0.999\n",
    "num_epochs = 10"
   ]
  },
  {
   "cell_type": "code",
   "execution_count": 10,
   "metadata": {},
   "outputs": [],
   "source": [
    "device = torch.device('cuda' if torch.cuda.is_available() else 'cpu')"
   ]
  },
  {
   "cell_type": "code",
   "execution_count": 11,
   "metadata": {},
   "outputs": [],
   "source": [
    "generator = Generator(latent_dim).to(device)\n",
    "discriminator = Discriminator().to(device)\n",
    "\n",
    "adversarial_loss = nn.BCELoss()\n",
    "\n",
    "optimizer_G = optim.Adam(generator.parameters()\\\n",
    "                         , lr=lr, betas=(beta1, beta2))\n",
    "optimizer_D = optim.Adam(discriminator.parameters()\\\n",
    "                         , lr=lr, betas=(beta1, beta2))"
   ]
  },
  {
   "cell_type": "code",
   "execution_count": 24,
   "metadata": {},
   "outputs": [
    {
     "name": "stderr",
     "output_type": "stream",
     "text": [
      "Epoch 1/10:   0%|          | 86/25584 [00:39<3:21:36,  2.11it/s]"
     ]
    }
   ],
   "source": [
    "for epoch in range(num_epochs):\n",
    "    with tqdm(enumerate(train_dataloader), total=len(train_dataloader), desc=f'Epoch {epoch+1}/{num_epochs}') as pbar:\n",
    "        for i, batch in pbar:\n",
    "            real_images = batch.to(device) \n",
    "\n",
    "\n",
    "            #print(real_images.shape)\n",
    "\n",
    "            valid = torch.ones(real_images.size(0), 1, device=device)\n",
    "            fake = torch.zeros(real_images.size(0), 1, device=device)\n",
    "\n",
    "            real_images = real_images.to(device)\n",
    "\n",
    "            # ---------------------\n",
    "            #  Train Discriminator\n",
    "            # ---------------------\n",
    "            optimizer_D.zero_grad()\n",
    "\n",
    "            z = torch.randn(real_images.size(0), latent_dim, device=device)\n",
    "\n",
    "            fake_images = generator(z)\n",
    "\n",
    "            #print(f\"Real images shape: {real_images.shape}\")  # Should be [batch_size, 3, 128, 128]\n",
    "            #print(f\"Fake images shape: {fake_images.shape}\")\n",
    "            \n",
    "            real_loss = adversarial_loss(discriminator(real_images), valid)\n",
    "            fake_loss = adversarial_loss(discriminator(fake_images.detach()), fake)\n",
    "            d_loss = (real_loss + fake_loss) / 2\n",
    "\n",
    "            d_loss.backward()\n",
    "            optimizer_D.step()\n",
    "\n",
    "            # -----------------\n",
    "            #  Train Generator\n",
    "            # -----------------\n",
    "            optimizer_G.zero_grad()\n",
    "\n",
    "            gen_images = generator(z)\n",
    "\n",
    "            g_loss = adversarial_loss(discriminator(gen_images), valid)\n",
    "\n",
    "            g_loss.backward()\n",
    "            optimizer_G.step()\n",
    "\n",
    "            \n",
    "            if torch.isnan(d_loss).any() or torch.isnan(g_loss).any():\n",
    "                print(f\"NaN detected! D Loss: {d_loss}, G Loss: {g_loss}\")\n",
    "\n",
    "            # ---------------------\n",
    "            #  Progress Monitoring\n",
    "            # ---------------------\n",
    "            if (i + 1) % 100 == 0:\n",
    "                pbar.set_postfix({\n",
    "                    'D Loss': d_loss.item(),\n",
    "                    'G Loss': g_loss.item()\n",
    "                })\n",
    "\n",
    "        # Save generated images for every epoch\n",
    "        if (epoch + 1) % 10 == 0:\n",
    "            with torch.no_grad():\n",
    "                z = torch.randn(16, latent_dim, device=device)\n",
    "                generated = generator(z).detach().cpu()\n",
    "                grid = torchvision.utils.make_grid(generated, nrow=4, normalize=True)\n",
    "                plt.imshow(np.transpose(grid, (1, 2, 0)))\n",
    "                plt.axis(\"off\")\n",
    "                plt.show()\n",
    "                plt.imsave(f\"./output/{epoch+1}\")\n"
   ]
  }
 ],
 "metadata": {
  "kernelspec": {
   "display_name": "venv",
   "language": "python",
   "name": "python3"
  },
  "language_info": {
   "codemirror_mode": {
    "name": "ipython",
    "version": 3
   },
   "file_extension": ".py",
   "mimetype": "text/x-python",
   "name": "python",
   "nbconvert_exporter": "python",
   "pygments_lexer": "ipython3",
   "version": "3.10.0"
  }
 },
 "nbformat": 4,
 "nbformat_minor": 2
}
